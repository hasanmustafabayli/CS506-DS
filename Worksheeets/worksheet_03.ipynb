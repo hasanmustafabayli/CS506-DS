{
 "cells": [
  {
   "attachments": {},
   "cell_type": "markdown",
   "metadata": {},
   "source": [
    "# Worksheet 03\n",
    "\n",
    "Name:  \n",
    "UID: \n",
    "\n",
    "### Topics\n",
    "\n",
    "- Intro to DS\n",
    "\n",
    "### Linear Algebra Review\n",
    "\n",
    "If you need a linear algebra review, please read through the [following pdf](https://github.com/gallettilance/CS506-Spring2023/raw/main/worksheets/lecture_03_linear_algebra_review.pdf) before next class\n",
    "\n",
    "### Intro to Data Science\n",
    "\n",
    "a) what property must a hypothesis have?"
   ]
  },
  {
   "cell_type": "markdown",
   "metadata": {},
   "source": [
    "It has to be testable and falsifiable.\n"
   ]
  },
  {
   "cell_type": "markdown",
   "metadata": {},
   "source": [
    "b) what examples would you have wanted to try?"
   ]
  },
  {
   "cell_type": "markdown",
   "metadata": {},
   "source": [
    "[0,0]"
   ]
  },
  {
   "cell_type": "markdown",
   "metadata": {},
   "source": [
    "c) Poll 1"
   ]
  },
  {
   "cell_type": "markdown",
   "metadata": {},
   "source": [
    "A"
   ]
  },
  {
   "cell_type": "markdown",
   "metadata": {},
   "source": [
    "d) Given the hypothesis (x, 2x, 3x), for each of the following, determine whether they are positive or negative examples:\n",
    "\n",
    "- (2, 4, 6) - positive\n",
    "- (6, 8 , 10) - negative\n",
    "- (1, 3, 5) - negative"
   ]
  },
  {
   "cell_type": "markdown",
   "metadata": {},
   "source": []
  },
  {
   "cell_type": "markdown",
   "metadata": {},
   "source": [
    "e) Poll 2"
   ]
  },
  {
   "cell_type": "markdown",
   "metadata": {},
   "source": [
    "C"
   ]
  },
  {
   "attachments": {},
   "cell_type": "markdown",
   "metadata": {},
   "source": [
    "f) Describe steps of a Data Science Workflow"
   ]
  },
  {
   "cell_type": "markdown",
   "metadata": {},
   "source": [
    "Processing Data —> Explore Data —--> Extract features (extracting things that could be good be great predictors that we are modellinf) —--> Create Model —-> Maybe you might be back to Process Data because it is the right type of data that you need. Extract some more features. It is a very iterative process."
   ]
  },
  {
   "attachments": {},
   "cell_type": "markdown",
   "metadata": {},
   "source": [
    "g) Give a real world example for each of the following data types:\n",
    "\n",
    "- record - Employee Record\n",
    "- graph - Social Network Graph\n",
    "- image - Photograph\n",
    "- text - News article"
   ]
  },
  {
   "cell_type": "markdown",
   "metadata": {},
   "source": [
    "Record - dimensional points/vectors Example: (name, age, balance) -> (“John”, 20,100)\n",
    "Graph - Nodes connected by edges Example: Triangle of 1, 2 and 3 and creating a matrix out of it\n",
    "Image - are represented as matrix of pixels, lot of the times it will 3d pixels and each of these pixels will have red, green or blue value\n",
    "Text - will store a list of words, we might manipulate the list of words. We can store it as a Corpus of Data.\n"
   ]
  },
  {
   "attachments": {},
   "cell_type": "markdown",
   "metadata": {},
   "source": [
    "h) Give a real world example of unsupervised learning"
   ]
  },
  {
   "cell_type": "markdown",
   "metadata": {},
   "source": [
    "we can create a matrix of vectors and we can do linear algebra on the matrix to extract which data are similar. Unsupervised learning steps can be used to improve the data that we already have by filling the void. Another example of unsupervised learning is inventory management."
   ]
  },
  {
   "attachments": {},
   "cell_type": "markdown",
   "metadata": {},
   "source": [
    "i) Give a real world example of supervised learning"
   ]
  },
  {
   "cell_type": "markdown",
   "metadata": {},
   "source": [
    "One example of supervised learning is fraud detection."
   ]
  }
 ],
 "metadata": {
  "kernelspec": {
   "display_name": "Python 3",
   "language": "python",
   "name": "python3"
  },
  "language_info": {
   "codemirror_mode": {
    "name": "ipython",
    "version": 3
   },
   "file_extension": ".py",
   "mimetype": "text/x-python",
   "name": "python",
   "nbconvert_exporter": "python",
   "pygments_lexer": "ipython3",
   "version": "3.11.1 (main, Dec  7 2022, 00:00:00) [GCC 12.2.1 20221121 (Red Hat 12.2.1-4)]"
  },
  "orig_nbformat": 4,
  "vscode": {
   "interpreter": {
    "hash": "e7370f93d1d0cde622a1f8e1c04877d8463912d04d973331ad4851f04de6915a"
   }
  }
 },
 "nbformat": 4,
 "nbformat_minor": 2
}
