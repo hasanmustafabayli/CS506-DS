{
 "cells": [
  {
   "attachments": {},
   "cell_type": "markdown",
   "metadata": {},
   "source": [
    "# Worksheet 02\n",
    "\n",
    "Name:  Hasan Mustafabayli\n",
    "UID: U15717216\n",
    "\n",
    "### Topics\n",
    "\n",
    "- Effective Programming\n",
    "\n",
    "### Effective Programming\n",
    "\n",
    "a) What is a drawback of the top down approach?\n",
    "\n",
    " The drawback of the top-down approach is its potential rigidity and limited adaptability when confronted with new or unexpected information that doesn't fit neatly into pre-established theories."
   ]
  },
  {
   "cell_type": "markdown",
   "metadata": {},
   "source": []
  },
  {
   "cell_type": "markdown",
   "metadata": {},
   "source": [
    "b) What is a drawback of the bottom up approach?"
   ]
  },
  {
   "cell_type": "markdown",
   "metadata": {},
   "source": [
    "Drawback of the bottom-up approach is that it can lead to conclusions that lack absolute certainty due to its reliance on generalizing from specific observations"
   ]
  },
  {
   "cell_type": "markdown",
   "metadata": {},
   "source": [
    "c) What are 3 things you can do to have a better debugging experience?"
   ]
  },
  {
   "cell_type": "markdown",
   "metadata": {},
   "source": []
  },
  {
   "cell_type": "code",
   "execution_count": null,
   "metadata": {},
   "outputs": [],
   "source": [
    "1. Go over your code multiple times \n",
    "2. Implement strategic logging.\n",
    "3. Go through the errors meticulously."
   ]
  },
  {
   "attachments": {},
   "cell_type": "markdown",
   "metadata": {},
   "source": [
    "d) Follow along with the live coding. You can write your code here:"
   ]
  },
  {
   "cell_type": "code",
   "execution_count": null,
   "metadata": {},
   "outputs": [],
   "source": [
    "class Board:\n",
    "    def __init__(self):\n",
    "        self.board = [[\"_\" for _ in range(8)] for _ in range(8)]\n",
    "\n",
    "    def __repr__(self):\n",
    "        res = \"\"\n",
    "        for row in self.board:\n",
    "            res += \" \".join(row)\n",
    "            res += \"\\n\"\n",
    "        return res\n",
    "\n",
    "    def is_safe(self, row, col):\n",
    "        for i in range(8):\n",
    "            if (\n",
    "                self.board[row][i] == \"Q\" or\n",
    "                self.board[i][col] == \"Q\" or\n",
    "                (0 <= row - i < 8 and 0 <= col - i < 8 and self.board[row - i][col - i] == \"Q\") or\n",
    "                (0 <= row - i < 8 and 0 <= col + i < 8 and self.board[row - i][col + i] == \"Q\") or\n",
    "                (0 <= row + i < 8 and 0 <= col - i < 8 and self.board[row + i][col - i] == \"Q\") or\n",
    "                (0 <= row + i < 8 and 0 <= col + i < 8 and self.board[row + i][col + i] == \"Q\")\n",
    "            ):\n",
    "                return False\n",
    "        return True\n",
    "\n",
    "    def place_queen(self, row):\n",
    "        if row == 8:\n",
    "            return True  # All queens are placed successfully\n",
    "\n",
    "        for col in range(8):\n",
    "            if self.is_safe(row, col):\n",
    "                self.board[row][col] = \"Q\"\n",
    "                if self.place_queen(row + 1):\n",
    "                    return True\n",
    "                self.board[row][col] = \"_\"\n",
    "\n",
    "        return False\n",
    "\n",
    "    def search(self):\n",
    "        if self.place_queen(0):\n",
    "            print(\"Found a solution:\")\n",
    "            print(self)\n",
    "        else:\n",
    "            print(\"No solution exists.\")\n",
    "\n",
    "my_board = Board()\n",
    "my_board.search()\n"
   ]
  }
 ],
 "metadata": {
  "kernelspec": {
   "display_name": "Python 3",
   "language": "python",
   "name": "python3"
  },
  "language_info": {
   "name": "python",
   "version": "3.11.1 (main, Dec  7 2022, 00:00:00) [GCC 12.2.1 20221121 (Red Hat 12.2.1-4)]"
  },
  "orig_nbformat": 4,
  "vscode": {
   "interpreter": {
    "hash": "76ca05dc3ea24b2e3b98cdb7774adfbb40773424bf5109b477fd793f623715af"
   }
  }
 },
 "nbformat": 4,
 "nbformat_minor": 2
}
