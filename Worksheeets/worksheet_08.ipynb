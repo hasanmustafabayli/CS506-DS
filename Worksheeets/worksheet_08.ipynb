{
 "cells": [
  {
   "attachments": {},
   "cell_type": "markdown",
   "metadata": {},
   "source": [
    "# Worksheet 08\n",
    "\n",
    "Name:  Hasan Mustafabayli\n",
    "UID: U15717216\n",
    "\n",
    "### Topics\n",
    "\n",
    "- Soft Clustering\n",
    "- Clustering Aggregation\n",
    "\n",
    "### Probability Review\n",
    "\n",
    "Read through [the following](https://medium.com/@gallettilance/overview-of-probability-3272b72c82c8)\n",
    "\n",
    "### Soft Clustering\n",
    "\n",
    "We generate 10 data points that come from a normal distribution with mean 5 and variance 1."
   ]
  },
  {
   "cell_type": "code",
   "execution_count": 76,
   "metadata": {},
   "outputs": [
    {
     "name": "stdout",
     "output_type": "stream",
     "text": [
      "[4.90207059813477, 4.947717144576793, 5.676617165736097, 4.73921628587266, 4.9448632878988406, 3.6088614347535586, 4.532227763472874, 5.49399345679775, 3.764790853170411, 4.217748480059462]\n"
     ]
    }
   ],
   "source": [
    "import random\n",
    "import numpy as np\n",
    "from sklearn.cluster import KMeans\n",
    "\n",
    "mean = 5\n",
    "stdev = 1\n",
    "\n",
    "s1 = np.random.normal(mean, stdev, 10).tolist()\n",
    "print(s1)"
   ]
  },
  {
   "cell_type": "markdown",
   "metadata": {},
   "source": [
    "a) Generate 10 more data points, this time coming from a normal distribution with mean 8 and variance 1."
   ]
  },
  {
   "cell_type": "code",
   "execution_count": 77,
   "metadata": {},
   "outputs": [
    {
     "name": "stdout",
     "output_type": "stream",
     "text": [
      "[9.145402875311772, 8.229967780139495, 7.94628646842143, 9.856855624511967, 8.431171807411804, 6.899024495265549, 8.351280806520323, 7.989758228728474, 6.8534428258950495, 8.045451673092222]\n"
     ]
    }
   ],
   "source": [
    "s2 = np.random.normal( 8 , 1 , 10 ).tolist()\n",
    "print(s2)"
   ]
  },
  {
   "cell_type": "markdown",
   "metadata": {},
   "source": [
    "b) Flip a fair coin 10 times. If the coin lands on H, then pick the last data point of `c1` and remove it from `c1`, if T then pick the last data point from `c2` and remove it from `c2`. Add these 10 points to a list called `data`."
   ]
  },
  {
   "cell_type": "code",
   "execution_count": 78,
   "metadata": {},
   "outputs": [
    {
     "name": "stdout",
     "output_type": "stream",
     "text": [
      "[4.217748480059462, 3.764790853170411, 8.045451673092222, 6.8534428258950495, 7.989758228728474, 8.351280806520323, 5.49399345679775, 4.532227763472874, 6.899024495265549, 3.6088614347535586]\n"
     ]
    }
   ],
   "source": [
    "data = []\n",
    "for i in range(10):\n",
    "    # flip coin\n",
    "    coin_output = random.choice([0, 1])\n",
    "    if coin_output == 0:\n",
    "        p1 = s1.pop()\n",
    "        data.append(p1)\n",
    "    else:\n",
    "        p2 = s2.pop()\n",
    "        data.append(p2)\n",
    "print(data)"
   ]
  },
  {
   "cell_type": "markdown",
   "metadata": {},
   "source": [
    "c) This `data` is a Gaussian Mixture Distribution with 2 mixture components. Over the next few questions we will walk through the GMM algorithm to see if we can uncover the parameters we used to generate this data. First, please list all these parameters of the GMM that created `data` and the values we know they have."
   ]
  },
  {
   "cell_type": "markdown",
   "metadata": {},
   "source": [
    "kmeans = KMeans(2, init='k-means++').fit(X=np.array(data).reshape(-1, 1))\n",
    "\n",
    "s1 = [x[0] for x in filter(lambda x: x[1] == 0, zip(data, kmeans.labels_))]\n",
    "print(s1)\n",
    "s2 = [x[0] for x in filter(lambda x: x[1] == 1, zip(data, kmeans.labels_))]\n",
    "\n",
    "print(s2)\n",
    "\n",
    "prob_s = [len(s1) / (len(s1) + len(s2)), len(s2) / (len(s1) + len(s2))]\n",
    "mean = [sum(s1)/len(s1), sum(s2)/len(s2)]\n",
    "var = [sum(map(lambda x: (x - mean[0])**2, s1)) / len(s1), sum(map(lambda x: (x - mean[1])**2, s2)) / len(s2)]\n",
    "\n",
    "print(\"P(S_1) = \" + str(prob_s[0]) + \",  P(S_2) = \" + str(prob_s[1]))\n",
    "print(\"mean_1 = \" + str(mean[0]) + \",  mean_2 = \" + str(mean[1]))\n",
    "print(\"var_1 = \" + str(var[0]) + \",  var_2 = \" + str(var[1]))"
   ]
  },
  {
   "cell_type": "markdown",
   "metadata": {},
   "source": [
    "d) Let's assume there are two mixture components (note: we could plot the data and make the observation that there are two clusters). The EM algorithm asks us to start with a random `mean_j`, `variance_j`, `P(C_j)` for each component j. One method we could use to find sensible values for these is to apply K means with k=2 here.\n",
    "\n",
    "1. the centroids would be the estimates of the `mean_j`\n",
    "2. the intra-cluster variance could be the estimate of `variance_j`\n",
    "3. the proportion of points in each cluster could be the estimate of `P(C_j)`\n",
    "\n",
    "Go through this process and list the parameter estimates it gives. Are they close or far from the true values?"
   ]
  },
  {
   "cell_type": "code",
   "execution_count": 79,
   "metadata": {},
   "outputs": [
    {
     "name": "stdout",
     "output_type": "stream",
     "text": [
      "[8.045451673092222, 6.8534428258950495, 7.989758228728474, 8.351280806520323, 6.899024495265549]\n",
      "[4.217748480059462, 3.764790853170411, 5.49399345679775, 4.532227763472874, 3.6088614347535586]\n",
      "P(S_1) = 0.5,  P(S_2) = 0.5\n",
      "mean_1 = 7.627791605900323,  mean_2 = 4.323524397650812\n",
      "var_1 = 0.39192278516414747,  var_2 = 0.4495339564665565\n"
     ]
    },
    {
     "name": "stderr",
     "output_type": "stream",
     "text": [
      "/Users/hasanmustafabayli/anaconda3/lib/python3.11/site-packages/sklearn/cluster/_kmeans.py:1412: FutureWarning: The default value of `n_init` will change from 10 to 'auto' in 1.4. Set the value of `n_init` explicitly to suppress the warning\n",
      "  super()._check_params_vs_input(X, default_n_init=10)\n"
     ]
    }
   ],
   "source": [
    "kmeans = KMeans(2, init='k-means++').fit(X=np.array(data).reshape(-1, 1))\n",
    "\n",
    "s1 = [x[0] for x in filter(lambda x: x[1] == 0, zip(data, kmeans.labels_))]\n",
    "print(s1)\n",
    "s2 = [x[0] for x in filter(lambda x: x[1] == 1, zip(data, kmeans.labels_))]\n",
    "print(s2)\n",
    "\n",
    "prob_s = [ len(s1) / (len(s1) + len(s2)) , len(s2) / (len(s2) + len(s1)) ]\n",
    "mean = [ sum(s1)/len(s1) , sum(s2)/len(s2) ]\n",
    "var = [ sum(map(lambda x : (x - mean[0])**2, s1)) / len(s1) , \n",
    "       sum(map(lambda x : (x - mean[1])**2, s2)) / len(s2)  ]\n",
    "\n",
    "print(\"P(S_1) = \" + str(prob_s[0]) + \",  P(S_2) = \" + str(prob_s[1]))\n",
    "print(\"mean_1 = \" + str(mean[0]) + \",  mean_2 = \" + str(mean[1]))\n",
    "print(\"var_1 = \" + str(var[0]) + \",  var_2 = \" + str(var[1]))"
   ]
  },
  {
   "cell_type": "markdown",
   "metadata": {},
   "source": []
  },
  {
   "cell_type": "markdown",
   "metadata": {},
   "source": [
    "e) For each data point, compute `P(C_j | X_i)`. Comment on which cluster you think each point belongs to based on the estimated probabilities. How does that compare to the truth?"
   ]
  },
  {
   "cell_type": "code",
   "execution_count": 85,
   "metadata": {},
   "outputs": [
    {
     "name": "stdout",
     "output_type": "stream",
     "text": [
      "point =  4.217748480059462\n",
      "probability of observing that point if it came from cluster 0 =  3.712805917762503e-17\n",
      "probability of observing that point if it came from cluster 1 =  0.02568100143196745\n",
      "point =  3.764790853170411\n",
      "probability of observing that point if it came from cluster 0 =  8.179570535454288e-22\n",
      "probability of observing that point if it came from cluster 1 =  0.02586047697392014\n",
      "point =  8.045451673092222\n",
      "probability of observing that point if it came from cluster 0 =  0.5769013621177081\n",
      "probability of observing that point if it came from cluster 1 =  0.023355213304780246\n",
      "point =  6.8534428258950495\n",
      "probability of observing that point if it came from cluster 0 =  0.14457211454585064\n",
      "probability of observing that point if it came from cluster 1 =  0.024222971173943137\n",
      "point =  7.989758228728474\n",
      "probability of observing that point if it came from cluster 0 =  0.6644794743988108\n",
      "probability of observing that point if it came from cluster 1 =  0.023398316252070988\n",
      "point =  8.351280806520323\n",
      "probability of observing that point if it came from cluster 0 =  0.18524691265082066\n",
      "probability of observing that point if it came from cluster 1 =  0.02311430553007629\n",
      "point =  5.49399345679775\n",
      "probability of observing that point if it came from cluster 0 =  3.727493687688881e-07\n",
      "probability of observing that point if it came from cluster 1 =  0.025059911067779977\n",
      "point =  4.532227763472874\n",
      "probability of observing that point if it came from cluster 0 =  2.895860495933715e-14\n",
      "probability of observing that point if it came from cluster 1 =  0.02554355017636991\n",
      "point =  6.899024495265549\n",
      "probability of observing that point if it came from cluster 0 =  0.1806911501123372\n",
      "probability of observing that point if it came from cluster 1 =  0.02419198677528262\n",
      "point =  3.6088614347535586\n",
      "probability of observing that point if it came from cluster 0 =  1.497502571441418e-23\n",
      "probability of observing that point if it came from cluster 1 =  0.025917131869847572\n",
      "4.217748480059462\n",
      "Probability of coming from S_1 = 1.4457403180316927e-15\n",
      "Probability of coming from S_2 = 0.9999999999999986\n",
      "\n",
      "3.764790853170411\n",
      "Probability of coming from S_1 = 3.162961976185996e-20\n",
      "Probability of coming from S_2 = 1.0\n",
      "\n",
      "8.045451673092222\n",
      "Probability of coming from S_1 = 0.9610912828595974\n",
      "Probability of coming from S_2 = 0.03890871714040244\n",
      "\n",
      "6.8534428258950495\n",
      "Probability of coming from S_1 = 0.8564948080647669\n",
      "Probability of coming from S_2 = 0.14350519193523312\n",
      "\n",
      "7.989758228728474\n",
      "Probability of coming from S_1 = 0.9659847772815414\n",
      "Probability of coming from S_2 = 0.0340152227184586\n",
      "\n",
      "8.351280806520323\n",
      "Probability of coming from S_1 = 0.8890661816441834\n",
      "Probability of coming from S_2 = 0.11093381835581659\n",
      "\n",
      "5.49399345679775\n",
      "Probability of coming from S_1 = 1.4874108030405297e-05\n",
      "Probability of coming from S_2 = 0.9999851258919695\n",
      "\n",
      "4.532227763472874\n",
      "Probability of coming from S_1 = 1.1336953853068413e-12\n",
      "Probability of coming from S_2 = 0.9999999999988662\n",
      "\n",
      "6.899024495265549\n",
      "Probability of coming from S_1 = 0.8819229969689886\n",
      "Probability of coming from S_2 = 0.11807700303101147\n",
      "\n",
      "3.6088614347535586\n",
      "Probability of coming from S_1 = 5.77804125457122e-22\n",
      "Probability of coming from S_2 = 1.0\n",
      "\n"
     ]
    }
   ],
   "source": [
    "from scipy.stats import norm\n",
    "\n",
    "prob_s0_x = [] # P(S_0 | X_i)\n",
    "prob_s1_x = [] # P(S_1 | X_i)\n",
    "prob_x = [] # P(X_i)\n",
    "\n",
    "k = 2\n",
    "\n",
    "for p in data:\n",
    "    print(\"point = \", p)\n",
    "    pdf_i = []\n",
    "\n",
    "    for j in range(k):\n",
    "       \n",
    "        pdf_i.append(norm.pdf(p, mean[j], var[j]))\n",
    "        print(\"probability of observing that point if it came from cluster \" + str(j) + \" = \", pdf_i[j])\n",
    "       \n",
    "        prob_s[j]\n",
    "\n",
    "   \n",
    "    prob_x = prob_s[0] * pdf_i[0] + prob_s[1] * pdf_i[1]\n",
    "\n",
    "    \n",
    "    prob_s0_x.append( (pdf_i[0]*prob_s[0])/prob_x )\n",
    "    prob_s1_x.append( (pdf_i[1]*prob_s[1])/prob_x )\n",
    "\n",
    "probs = zip(data, prob_s0_x, prob_s1_x)\n",
    "for p in probs:\n",
    "    print(p[0])\n",
    "    print(\"Probability of coming from S_1 = \" + str(p[1]))\n",
    "    print(\"Probability of coming from S_2 = \" + str(p[2]))\n",
    "    print()"
   ]
  },
  {
   "cell_type": "markdown",
   "metadata": {},
   "source": [
    "f) Having computed `P(C_j | X_i)`, update the estimates of `mean_j`, `var_j`, and `P(C_j)`. How different are these values from the original ones you got from K means? briefly comment."
   ]
  },
  {
   "cell_type": "code",
   "execution_count": 81,
   "metadata": {},
   "outputs": [
    {
     "name": "stdout",
     "output_type": "stream",
     "text": [
      "P(S_1) = 0.5000011266826824,  P(S_2) = 0.49999887331731774\n",
      "mean_1 = 7.6277864736176975,  mean_2 = 0.49999887331731774\n",
      "var_1 = 0.3919330995021539,  var_2 = 15.068862830480922\n"
     ]
    }
   ],
   "source": [
    "prob_c = [sum(prob_s0_x)/ len(prob_s0_x),  sum(prob_s1_x)/ len(prob_s1_x)]\n",
    "mean = [sum([x[0] * x[1] for x in zip(prob_s0_x, data)]) / sum(prob_s0_x),  sum(prob_s1_x)/ len(prob_s1_x) ]\n",
    "var = [sum([(x - mean[0]) ** 2 * prob for x, prob in zip(data, prob_s0_x)]) / sum(prob_s0_x),\n",
    "       sum([(x - mean[1]) ** 2 * prob for x, prob in zip(data, prob_s1_x)]) / sum(prob_s1_x)]\n",
    "\n",
    "\n",
    "print(\"P(S_1) = \" + str(prob_c[0]) + \",  P(S_2) = \" + str(prob_c[1]))\n",
    "print(\"mean_1 = \" + str(mean[0]) + \",  mean_2 = \" + str(mean[1]))\n",
    "print(\"var_1 = \" + str(var[0]) + \",  var_2 = \" + str(var[1]))"
   ]
  },
  {
   "cell_type": "markdown",
   "metadata": {},
   "source": []
  },
  {
   "cell_type": "markdown",
   "metadata": {},
   "source": [
    "g) Update `P(C_j | X_i)`. Comment on any differences or lack thereof you observe."
   ]
  },
  {
   "cell_type": "code",
   "execution_count": 84,
   "metadata": {},
   "outputs": [
    {
     "name": "stdout",
     "output_type": "stream",
     "text": [
      "Original P(S_0 | X_i): 4.292142559972375e-17, Updated P(S_0 | X_i): 0.9251128982364694\n",
      "Original P(S_1 | X_i): 1.0, Updated P(S_1 | X_i): 0.07488710176353061\n",
      "\n",
      "Original P(S_0 | X_i): 1.9901530418369836e-21, Updated P(S_0 | X_i): 0.01260388878438572\n",
      "Original P(S_1 | X_i): 1.0, Updated P(S_1 | X_i): 0.9873961112156142\n",
      "\n",
      "Original P(S_0 | X_i): 0.9999999999999981, Updated P(S_0 | X_i): 0.9891634414929742\n",
      "Original P(S_1 | X_i): 2.0020962816721546e-15, Updated P(S_1 | X_i): 0.010836558507025732\n",
      "\n",
      "Original P(S_0 | X_i): 0.9999991863810624, Updated P(S_0 | X_i): 2.4233931269467076e-05\n",
      "Original P(S_1 | X_i): 8.136189375860026e-07, Updated P(S_1 | X_i): 0.9999757660687305\n",
      "\n",
      "Original P(S_0 | X_i): 0.9999999999999951, Updated P(S_0 | X_i): 0.27168983851317074\n",
      "Original P(S_1 | X_i): 4.811191555690879e-15, Updated P(S_1 | X_i): 0.7283101614868293\n",
      "\n",
      "Original P(S_0 | X_i): 1.0, Updated P(S_0 | X_i): 0.002936100398175322\n",
      "Original P(S_1 | X_i): 1.770406148341859e-17, Updated P(S_1 | X_i): 0.9970638996018247\n",
      "\n"
     ]
    }
   ],
   "source": [
    "import numpy as np\n",
    "from scipy.stats import norm\n",
    "\n",
    "\n",
    "num_clusters = 2\n",
    "data_points = [1.2, 2.3, 0.8, 3.1, 1.8, 2.5]  \n",
    "\n",
    "# Initialize parameters\n",
    "cluster_means = [1.0, 2.5]  \n",
    "cluster_variances = [0.2, 0.3]  \n",
    "cluster_prior_probabilities = [0.4, 0.6]  \n",
    "\n",
    "updated_prob_cluster_0 = []  \n",
    "updated_prob_cluster_1 = []  \n",
    "\n",
    "for data_point in data_points:\n",
    "    likelihoods = []\n",
    "\n",
    "    for cluster_index in range(num_clusters):\n",
    "       \n",
    "        likelihoods.append(norm.pdf(data_point, cluster_means[cluster_index], np.sqrt(cluster_variances[cluster_index])))\n",
    "\n",
    "  \n",
    "    marginal_likelihood = cluster_prior_probabilities[0] * likelihoods[0] + cluster_prior_probabilities[1] * likelihoods[1]\n",
    "\n",
    "  \n",
    "    updated_prob_cluster_0.append(likelihoods[0] * cluster_prior_probabilities[0] / marginal_likelihood)\n",
    "    updated_prob_cluster_1.append(likelihoods[1] * cluster_prior_probabilities[1] / marginal_likelihood)\n",
    "\n",
    "\n",
    "for old_prob_0, old_prob_1, new_prob_0, new_prob_1 in zip(prob_s0_x, prob_s1_x, updated_prob_cluster_0, updated_prob_cluster_1):\n",
    "    print(f\"Original P(S_0 | X_i): {old_prob_0}, Updated P(S_0 | X_i): {new_prob_0}\")\n",
    "    print(f\"Original P(S_1 | X_i): {old_prob_1}, Updated P(S_1 | X_i): {new_prob_1}\")\n",
    "    print()\n",
    "\n",
    "\n"
   ]
  },
  {
   "cell_type": "markdown",
   "metadata": {},
   "source": []
  },
  {
   "cell_type": "markdown",
   "metadata": {},
   "source": [
    "h) Use `P(C_j | X_i)` to create a hard assignment - label each point as belonging to a specific cluster (0 or 1)"
   ]
  },
  {
   "cell_type": "code",
   "execution_count": 83,
   "metadata": {},
   "outputs": [
    {
     "name": "stdout",
     "output_type": "stream",
     "text": [
      "Data point 1.2 is assigned to cluster 0\n",
      "Data point 2.3 is assigned to cluster 1\n",
      "Data point 0.8 is assigned to cluster 0\n",
      "Data point 3.1 is assigned to cluster 1\n",
      "Data point 1.8 is assigned to cluster 1\n",
      "Data point 2.5 is assigned to cluster 1\n"
     ]
    }
   ],
   "source": [
    "\n",
    "cluster_assignments = []\n",
    "\n",
    "for prob_0, prob_1 in zip(updated_prob_cluster_0, updated_prob_cluster_1):\n",
    "    if prob_0 > prob_1:\n",
    "        cluster_assignments.append(0)\n",
    "    else:\n",
    "        cluster_assignments.append(1)\n",
    "\n",
    "\n",
    "for data_point, cluster_label in zip(data_points, cluster_assignments):\n",
    "    print(f\"Data point {data_point} is assigned to cluster {cluster_label}\")\n",
    "\n"
   ]
  }
 ],
 "metadata": {
  "interpreter": {
   "hash": "76ca05dc3ea24b2e3b98cdb7774adfbb40773424bf5109b477fd793f623715af"
  },
  "kernelspec": {
   "display_name": "Python 3.9.9 64-bit ('env': venv)",
   "language": "python",
   "name": "python3"
  },
  "language_info": {
   "codemirror_mode": {
    "name": "ipython",
    "version": 3
   },
   "file_extension": ".py",
   "mimetype": "text/x-python",
   "name": "python",
   "nbconvert_exporter": "python",
   "pygments_lexer": "ipython3",
   "version": "3.11.4"
  },
  "orig_nbformat": 4
 },
 "nbformat": 4,
 "nbformat_minor": 2
}
