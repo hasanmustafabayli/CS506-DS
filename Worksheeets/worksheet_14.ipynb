{
 "cells": [
  {
   "attachments": {},
   "cell_type": "markdown",
   "metadata": {},
   "source": [
    "# Worksheet 14\n",
    "\n",
    "Name:  Hasan Mustafabayli\n",
    "UID: U15717216\n",
    "\n",
    "### Topics\n",
    "\n",
    "- Naive Bayes\n",
    "- Model Evaluation\n",
    "\n",
    "### Naive Bayes\n",
    "\n",
    "| Attribute A | Attribute B | Attribute C | Class |\n",
    "|-------------|-------------|-------------|-------|\n",
    "| Yes         | Single      | High        | No    |\n",
    "| No          | Married     | Mid         | No    |\n",
    "| No          | Single      | Low         | No    |\n",
    "| Yes         | Married     | High        | No    |\n",
    "| No          | Divorced    | Mid         | Yes   |\n",
    "| No          | Married     | Low         | No    |\n",
    "| Yes         | Divorced    | High        | No    |\n",
    "| No          | Single      | Mid         | Yes   |\n",
    "| No          | Married     | Low         | No    |\n",
    "| No          | Single      | Mid         | Yes   |\n",
    "\n",
    "a) Compute the following probabilities:\n",
    "\n",
    "- P(Attribute A = Yes | Class = No) = 3/7\n",
    "- P(Attribute B = Divorced | Class = Yes) = 1/3\n",
    "- P(Attribute C = High | Class = No) = 3/7\n",
    "- P(Attribute C = Mid | Class = Yes) = 3/3 = 1"
   ]
  },
  {
   "cell_type": "markdown",
   "metadata": {},
   "source": []
  },
  {
   "cell_type": "markdown",
   "metadata": {},
   "source": [
    "b) Classify the following unseen records:\n",
    "\n",
    "- (Yes, Married, Mid)\n",
    "- (No, Divorced, High)\n",
    "- (No, Single, High)\n",
    "- (No, Divorced, Low)\n",
    "\n"
   ]
  },
  {
   "cell_type": "markdown",
   "metadata": {},
   "source": [
    "Yes, Married, Mid\n",
    "\n",
    "For Class = No: P(No | Yes, Married, Mid) = P(No) * P(Yes | No) * P(Married | No) * P(Mid | No) = 0.7 * 3/7 * 4/7 * 2/7 = 0.12\n",
    "\n",
    "For Class = Yes: P(Yes | Yes, Married, Mid) = P(Yes) * P(Yes | Yes) * P(Married | Yes) * P(Mid | Yes) = 0.3 * 0 * 0 * 2/3 = 0\n",
    "\n",
    "Result: Classified as No (since 0.12 > 0).\n",
    "\n",
    "No, Divorced, High\n",
    "\n",
    "For Class = No: P(No | No, Divorced, High) = 0.7 * 4/7 * 1/7 * 3/7 = 0.06\n",
    "\n",
    "For Class = Yes: P(Yes | No, Divorced, High) = 0.3 * 1 * 1/3 * 0 = 0\n",
    "\n",
    "Result: Classified as No (since 0.06 > 0).\n",
    "\n",
    "No, Single, High\n",
    "\n",
    "For Class = No: P(No | No, Single, High) = 0.7 * 4/7 * 2/7 * 3/7 = 0.12\n",
    "\n",
    "For Class = Yes: P(Yes | No, Single, High) = 0.3 * 1 * 2/3 * 0 = 0\n",
    "\n",
    "Result: Classified as No (since 0.12 > 0).\n",
    "\n",
    "No, Divorced, Low\n",
    "\n",
    "For Class = No: P(No | No, Divorced, Low) = 0.7 * 4/7 * 1/7 * 2/7 = 0.04\n",
    "\n",
    "For Class = Yes: P(Yes | No, Divorced, Low) = 0.3 * 1 * 1/3 * 1/3 = 0.1\n",
    "\n",
    "Result: Classified as Yes (since 0.1 > 0.04).\n",
    "\n"
   ]
  },
  {
   "cell_type": "markdown",
   "metadata": {},
   "source": []
  },
  {
   "cell_type": "markdown",
   "metadata": {},
   "source": [
    "### Model Evaluation\n",
    "\n",
    "a) Write a function to generate the confusion matrix for a list of actual classes and a list of predicted classes"
   ]
  },
  {
   "cell_type": "code",
   "execution_count": 1,
   "metadata": {},
   "outputs": [
    {
     "name": "stdout",
     "output_type": "stream",
     "text": [
      "{'TP': 2, 'TN': 4, 'FP': 3, 'FN': 1}\n"
     ]
    }
   ],
   "source": [
    "def confusion_matrix(actual, predicted):\n",
    "    # Initialize the counts\n",
    "    TP = TN = FP = FN = 0\n",
    "\n",
    "    for a, p in zip(actual, predicted):\n",
    "        if a == \"Yes\" and p == \"Yes\":\n",
    "            TP += 1\n",
    "        elif a == \"No\" and p == \"No\":\n",
    "            TN += 1\n",
    "        elif a == \"No\" and p == \"Yes\":\n",
    "            FP += 1\n",
    "        elif a == \"Yes\" and p == \"No\":\n",
    "            FN += 1\n",
    "\n",
    "    return {\"TP\": TP, \"TN\": TN, \"FP\": FP, \"FN\": FN}\n",
    "\n",
    "\n",
    "actual_class = [\"Yes\", \"No\", \"No\", \"Yes\", \"No\", \"No\", \"Yes\", \"No\", \"No\", \"No\"]\n",
    "predicted_class = [\"Yes\", \"No\", \"Yes\", \"No\", \"No\", \"No\", \"Yes\", \"Yes\", \"Yes\", \"No\"]\n",
    "\n",
    "print(confusion_matrix(actual_class, predicted_class))"
   ]
  },
  {
   "cell_type": "markdown",
   "metadata": {},
   "source": [
    "b) Assume you have the following Cost Matrix:\n",
    "\n",
    "|            | predicted = Y | predicted = N |\n",
    "|------------|---------------|---------------|\n",
    "| actual = Y |       -1      |       5       |\n",
    "| actual = N |        10     |       0       |\n",
    "\n",
    "What is the cost of the above classification?"
   ]
  },
  {
   "cell_type": "markdown",
   "metadata": {},
   "source": [
    "Cost = -2+5+30=33"
   ]
  },
  {
   "cell_type": "markdown",
   "metadata": {},
   "source": [
    "c) Write a function that takes in the actual values, the predictions, and a cost matrix and outputs a cost. Test it on the above example."
   ]
  },
  {
   "cell_type": "code",
   "execution_count": 3,
   "metadata": {},
   "outputs": [
    {
     "name": "stdout",
     "output_type": "stream",
     "text": [
      "33\n"
     ]
    }
   ],
   "source": [
    "def calculate_classification_cost(actual, predicted, cost_matrix):\n",
    "    # Compute confusion matrix\n",
    "    TP = TN = FP = FN = 0\n",
    "    for a, p in zip(actual, predicted):\n",
    "        if a == \"Yes\" and p == \"Yes\":\n",
    "            TP += 1\n",
    "        elif a == \"No\" and p == \"No\":\n",
    "            TN += 1\n",
    "        elif a == \"No\" and p == \"Yes\":\n",
    "            FP += 1\n",
    "        elif a == \"Yes\" and p == \"No\":\n",
    "            FN += 1\n",
    "    \n",
    "    # Calculate total cost\n",
    "    total_cost = (\n",
    "        TP * cost_matrix[\"TP\"] +\n",
    "        TN * cost_matrix[\"TN\"] +\n",
    "        FP * cost_matrix[\"FP\"] +\n",
    "        FN * cost_matrix[\"FN\"]\n",
    "    )\n",
    "    return total_cost\n",
    "\n",
    "# Test the function\n",
    "actual_class = [\"Yes\", \"No\", \"No\", \"Yes\", \"No\", \"No\", \"Yes\", \"No\", \"No\", \"No\"]\n",
    "predicted_class = [\"Yes\", \"No\", \"Yes\", \"No\", \"No\", \"No\", \"Yes\", \"Yes\", \"Yes\", \"No\"]\n",
    "cost_matrix = {\"TP\": -1, \"TN\": 0, \"FP\": 10, \"FN\": 5}\n",
    "\n",
    "cost = calculate_classification_cost(actual_class, predicted_class, cost_matrix)\n",
    "print(cost)\n"
   ]
  },
  {
   "cell_type": "markdown",
   "metadata": {},
   "source": [
    "d) Implement functions for the following:\n",
    "\n",
    "- accuracy\n",
    "- precision\n",
    "- recall\n",
    "- f-measure\n",
    "\n",
    "and apply them to the above example."
   ]
  },
  {
   "cell_type": "code",
   "execution_count": 4,
   "metadata": {},
   "outputs": [
    {
     "name": "stdout",
     "output_type": "stream",
     "text": [
      "Accuracy: 0.6\n",
      "Precision: 0.4\n",
      "Recall: 0.6666666666666666\n",
      "F-measure: 0.5\n"
     ]
    }
   ],
   "source": [
    "def calculate_accuracy(TP, TN, FP, FN):\n",
    "    \"\"\"Calculate the accuracy of the classification.\"\"\"\n",
    "    return (TP + TN) / (TP + TN + FP + FN) if (TP + TN + FP + FN) != 0 else 0\n",
    "\n",
    "def calculate_precision(TP, FP):\n",
    "    \"\"\"Calculate the precision of the classification.\"\"\"\n",
    "    return TP / (TP + FP) if (TP + FP) != 0 else 0\n",
    "\n",
    "def calculate_recall(TP, FN):\n",
    "    \"\"\"Calculate the recall of the classification.\"\"\"\n",
    "    return TP / (TP + FN) if (TP + FN) != 0 else 0\n",
    "\n",
    "def calculate_f_measure(precision, recall):\n",
    "    \"\"\"Calculate the F-measure of the classification.\"\"\"\n",
    "    return 2 * (precision * recall) / (precision + recall) if (precision + recall) != 0 else 0\n",
    "\n",
    "\n",
    "actual_class = [\"Yes\", \"No\", \"No\", \"Yes\", \"No\", \"No\", \"Yes\", \"No\", \"No\", \"No\"]\n",
    "predicted_class = [\"Yes\", \"No\", \"Yes\", \"No\", \"No\", \"No\", \"Yes\", \"Yes\", \"Yes\", \"No\"]\n",
    "\n",
    "\n",
    "TP = TN = FP = FN = 0\n",
    "for a, p in zip(actual_class, predicted_class):\n",
    "    if a == \"Yes\" and p == \"Yes\":\n",
    "        TP += 1\n",
    "    elif a == \"No\" and p == \"No\":\n",
    "        TN += 1\n",
    "    elif a == \"No\" and p == \"Yes\":\n",
    "        FP += 1\n",
    "    elif a == \"Yes\" and p == \"No\":\n",
    "        FN += 1\n",
    "\n",
    "\n",
    "accuracy = calculate_accuracy(TP, TN, FP, FN)\n",
    "precision = calculate_precision(TP, FP)\n",
    "recall = calculate_recall(TP, FN)\n",
    "f_measure = calculate_f_measure(precision, recall)\n",
    "\n",
    "print(\"Accuracy:\", accuracy)\n",
    "print(\"Precision:\", precision)\n",
    "print(\"Recall:\", recall)\n",
    "print(\"F-measure:\", f_measure)\n"
   ]
  }
 ],
 "metadata": {
  "kernelspec": {
   "display_name": "Python 3",
   "language": "python",
   "name": "python3"
  },
  "language_info": {
   "codemirror_mode": {
    "name": "ipython",
    "version": 3
   },
   "file_extension": ".py",
   "mimetype": "text/x-python",
   "name": "python",
   "nbconvert_exporter": "python",
   "pygments_lexer": "ipython3",
   "version": "3.11.4"
  },
  "orig_nbformat": 4,
  "vscode": {
   "interpreter": {
    "hash": "e7370f93d1d0cde622a1f8e1c04877d8463912d04d973331ad4851f04de6915a"
   }
  }
 },
 "nbformat": 4,
 "nbformat_minor": 2
}
