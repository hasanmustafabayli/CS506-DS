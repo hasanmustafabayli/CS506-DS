{
 "cells": [
  {
   "attachments": {},
   "cell_type": "markdown",
   "metadata": {},
   "source": [
    "# Worksheet 12\n",
    "\n",
    "Name:  Hasan Mustafabayli\n",
    "UID: U15717216\n",
    "\n",
    "### Topics\n",
    "\n",
    "- Introduction to Classification\n",
    "- K Nearest Neighbors\n",
    "\n",
    "### Introduction to Classification\n",
    "\n",
    "a) For the following examples, say whether they are or aren't an example of classification.\n",
    "\n",
    "1. Predicting whether a student will be offered a job after graduating given their GPA.\n",
    "2. Predicting how long it will take (in number of months) for a student to be offered a job after graduating, given their GPA.\n",
    "3. Predicting the number of stars (1-5) a person will assign in their yelp review given the description they wrote in the review.\n",
    "4. Predicting the number of births occuring in a specified minute."
   ]
  },
  {
   "cell_type": "markdown",
   "metadata": {},
   "source": [
    "1. Yes - students can be classified into 2 classes (those who got the offer and those who didn't)\n",
    "2. No - we cannot classify the number of months as they are not discrete\n",
    "3. Yes - in correlation with 1-5 stars rating we can classify reviews into 5 classes\n",
    "4. No - as it encapsulates predicting a continious numerical value"
   ]
  },
  {
   "cell_type": "markdown",
   "metadata": {},
   "source": [
    "b) Given a dataset, how would you set things up such that you can both learn a model and get an idea of how this model might perform on data it has never seen?"
   ]
  },
  {
   "cell_type": "markdown",
   "metadata": {},
   "source": [
    "1. Split the data into training data and testing data - while a certain percentage of data is assigned to the training set, the remaining is assigned to to the testing set.\n",
    "2. Use the training set to make your model learn.\n",
    "3. Use the testing set to see how good the performance of your trained model is - this allows us to understand how well the model is going to perform with unseen data. "
   ]
  },
  {
   "cell_type": "markdown",
   "metadata": {},
   "source": [
    "c) In your own words, briefly explain:\n",
    "\n",
    "- underfitting\n",
    "- overfitting\n",
    "\n",
    "and what signs to look out for for each."
   ]
  },
  {
   "cell_type": "markdown",
   "metadata": {},
   "source": [
    "Underfitting means that we have a simplistic model that does not capture all the underlying patterns in the data. In other words, the model is unable to learn from the training and the test data. Signs to look out for involve the performance of the model is bad on the same level on both training and test data and the use of additional features improve the performance by a lot. \n",
    "\n",
    "Overfitting - occurs when a model learns the training data too well instead of the general underlying pattern. Although it performs well with the training data, it is unable to generalize the new data. Signs to look out for include exceptionally high performance on the training data, a significant drop in performance on the test or validation data compared to the training data."
   ]
  },
  {
   "cell_type": "markdown",
   "metadata": {},
   "source": [
    "### K Nearest Neighbors"
   ]
  },
  {
   "cell_type": "code",
   "execution_count": 8,
   "metadata": {},
   "outputs": [],
   "source": [
    "import numpy as np\n",
    "import matplotlib.pyplot as plt\n",
    "\n",
    "data = {\n",
    "    \"Attribute A\" : [3.5, 0, 1, 2.5, 2, 1.5, 2, 3.5, 1, 3, 2, 2, 2.5, 0.5, 0., 10],\n",
    "    \"Attribute B\" : [4, 1.5, 2, 1, 3.5, 2.5, 1, 0, 3, 1.5, 4, 2, 2.5, 0.5, 2.5, 10],\n",
    "    \"Class\" : [1, 0, 1, 0, 1, 0, 1, 0, 1, 0, 1, 0, 0, 1, 1, 0],\n",
    "}"
   ]
  },
  {
   "cell_type": "markdown",
   "metadata": {},
   "source": [
    "a) Plot the data in a 2D plot coloring each scatter point one of two colors depending on its corresponding class."
   ]
  },
  {
   "cell_type": "code",
   "execution_count": 9,
   "metadata": {},
   "outputs": [
    {
     "data": {
      "image/png": "[encoded data removed]",
      "text/plain": [
       "<Figure size 640x480 with 1 Axes>"
      ]
     },
     "metadata": {},
     "output_type": "display_data"
    }
   ],
   "source": [
    "colors = np.array([x for x in 'bgrcmyk'])\n",
    "plt.scatter(data[\"Attribute A\"], data[\"Attribute B\"], color=colors[data[\"Class\"]].tolist())\n",
    "plt.show()"
   ]
  },
  {
   "cell_type": "markdown",
   "metadata": {},
   "source": [
    "Outliers are points that lie far from the rest of the data. They are not necessarily invalid points however. Imagine sampling from a Normal Distribution with mean 10 and variance 1. You would expect most points you sample to be in the range [7, 13] but it's entirely possible to see 20 which, on average, should be very far from the rest of the points in the sample (unless we're VERY (un)lucky). These outliers can inhibit our ability to learn general patterns in the data since they are not representative of likely outcomes. They can still be useful in of themselves and can be analyzed in great depth depending on the problem at hand.\n",
    "\n",
    "b) Are there any points in the dataset that could be outliers? If so, please remove them from the dataset."
   ]
  },
  {
   "cell_type": "markdown",
   "metadata": {},
   "source": []
  },
  {
   "cell_type": "code",
   "execution_count": 10,
   "metadata": {},
   "outputs": [],
   "source": [
    "outlier = [i for i, (a, b) in enumerate(zip(data[\"Attribute A\"], data[\"Attribute B\"])) if a == b == 10]\n",
    "\n",
    "if outlier:\n",
    "    for x in data.keys():\n",
    "        data[x].pop(outlier[0])"
   ]
  },
  {
   "cell_type": "markdown",
   "metadata": {},
   "source": [
    "Noise points are points that could be considered invalid under the general trend in the data. These could be the result of actual errors in the data or randomness that we could attribute to oversimplification (for example if missing some information / feature about each point). Considering noise points in our model can often lead to overfitting.\n",
    "\n",
    "c) Are there any points in the dataset that could be noise points?"
   ]
  },
  {
   "cell_type": "markdown",
   "metadata": {},
   "source": [
    "The point at 3.5, 0 seems as if it is noise becuase we expect the trend of the data to be positive."
   ]
  },
  {
   "cell_type": "markdown",
   "metadata": {},
   "source": [
    "For the following point\n",
    "\n",
    "|  A  |  B  |\n",
    "|-----|-----|\n",
    "| 0.5 |  1  |\n",
    "\n",
    "d) Plot it in a different color along with the rest of the points in the dataset."
   ]
  },
  {
   "cell_type": "code",
   "execution_count": 11,
   "metadata": {},
   "outputs": [
    {
     "data": {
      "image/png": "[encoded data removed]",
      "text/plain": [
       "<Figure size 640x480 with 1 Axes>"
      ]
     },
     "metadata": {},
     "output_type": "display_data"
    }
   ],
   "source": [
    "colors = np.array([x for x in 'bgrcmyk'])\n",
    "plt.scatter(data[\"Attribute A\"], data[\"Attribute B\"], color=colors[data[\"Class\"]].tolist())\n",
    "plt.scatter(0.5, 1, color=\"yellow\")\n",
    "plt.show()"
   ]
  },
  {
   "cell_type": "markdown",
   "metadata": {},
   "source": [
    "e) Write a function to compute the Euclidean distance from it to all points in the dataset and pick the 3 closest points to it. In a scatter plot, draw a circle centered around the point with radius the distance of the farthest of the three points."
   ]
  },
  {
   "cell_type": "code",
   "execution_count": 14,
   "metadata": {},
   "outputs": [
    {
     "data": {
      "image/png": "[encoded data removed]",
      "text/plain": [
       "<Figure size 640x480 with 1 Axes>"
      ]
     },
     "metadata": {},
     "output_type": "display_data"
    }
   ],
   "source": [
    "import numpy as np\n",
    "import matplotlib.pyplot as plt\n",
    "\n",
    "def n_closest_to(example, n):\n",
    "    # Calculate distances\n",
    "    distances = []\n",
    "    for i in range(len(data[\"Attribute A\"])):\n",
    "        point = np.array([data[\"Attribute A\"][i], data[\"Attribute B\"][i]])\n",
    "        distances.append(np.linalg.norm(point - np.array(example)))\n",
    "    \n",
    "    # Get indices of n closest points\n",
    "    sorted_indices = np.argsort(distances)\n",
    "    return sorted_indices[:n]\n",
    "\n",
    "location = (0.5, 1)\n",
    "\n",
    "# Get the index of the farthest among the n closest points\n",
    "index = n_closest_to(location, 3)[-1]\n",
    "\n",
    "# Calculate the radius based on the distance to the farthest point among the n closest\n",
    "radius = np.linalg.norm(np.array([data[\"Attribute A\"][index], data[\"Attribute B\"][index]]) - np.array(location))\n",
    "\n",
    "_, axes = plt.subplots()\n",
    "\n",
    "# Plot the scatter points with colors based on class\n",
    "axes.scatter(data[\"Attribute A\"] + [0.5], data[\"Attribute B\"] + [1], color=colors[data[\"Class\"] + [2]].tolist())\n",
    "\n",
    "# Plot the circle\n",
    "cir = plt.Circle(location, radius, fill=False, alpha=0.8)\n",
    "axes.add_patch(cir)\n",
    "axes.set_aspect('equal')  # Ensures circle is not distorted\n",
    "plt.show()\n",
    "\n"
   ]
  },
  {
   "cell_type": "markdown",
   "metadata": {},
   "source": [
    "f) Write a function that takes the three points returned by your function in e) and returns the class that the majority of points have (break ties with a deterministic default class of your choosing). Print the class assigned to this new point by your function."
   ]
  },
  {
   "cell_type": "code",
   "execution_count": 15,
   "metadata": {},
   "outputs": [
    {
     "name": "stdout",
     "output_type": "stream",
     "text": [
      "Deduced Class: 1\n"
     ]
    }
   ],
   "source": [
    "def majority(points):\n",
    "    votes = []\n",
    "    for pt in points:\n",
    "        votes.append(data[\"Class\"][pt])\n",
    "    \n",
    "    # Using set to get unique class labels\n",
    "    unique_votes = set(votes)\n",
    "    \n",
    "    # Finding the class label with the highest frequency\n",
    "    best_class = None\n",
    "    max_count = -1\n",
    "    for uv in unique_votes:\n",
    "        if votes.count(uv) > max_count:\n",
    "            best_class = uv\n",
    "            max_count = votes.count(uv)\n",
    "    \n",
    "    return best_class\n",
    "\n",
    "relevant_points = n_closest_to(location, 3)\n",
    "inferred_class = majority(relevant_points)\n",
    "print(f\"Deduced Class: {inferred_class}\")\n"
   ]
  },
  {
   "cell_type": "markdown",
   "metadata": {},
   "source": [
    "g) Re-using the functions from e) and f), you should be able to assign a class to any new point. In this exercise we will implement Leave-one-out cross validiation in order to evaluate the performance of our model.\n",
    "\n",
    "For each point in the dataset:\n",
    "\n",
    "- consider that point as your test set and the rest of the data as your training set\n",
    "- classify that point using the training set\n",
    "- keep track of whether you were correct with the use of a counter\n",
    "\n",
    "Once you've iterated through the entire dataset, divide the counter by the number of points in the dataset to report an overall testing accuracy."
   ]
  },
  {
   "cell_type": "code",
   "execution_count": 20,
   "metadata": {},
   "outputs": [
    {
     "name": "stdout",
     "output_type": "stream",
     "text": [
      "overall accuracy = 0.5333333333333333\n"
     ]
    }
   ],
   "source": [
    "count = 0\n",
    "for i in range(len(data[\"Attribute A\"])):\n",
    "    actual_class = (data[\"Attribute A\"][i], data[\"Attribute B\"][i])\n",
    "    training_set = n_closest_to(location, 3)\n",
    "    prediction = majority(training_set)\n",
    "    if prediction == data[\"Class\"][i]:\n",
    "        count += 1\n",
    "y = count / len(data[\"Attribute A\"])\n",
    "\n",
    "print(f\"overall accuracy = {y}\")"
   ]
  }
 ],
 "metadata": {
  "interpreter": {
   "hash": "76ca05dc3ea24b2e3b98cdb7774adfbb40773424bf5109b477fd793f623715af"
  },
  "kernelspec": {
   "display_name": "Python 3.9.9 64-bit ('env': venv)",
   "language": "python",
   "name": "python3"
  },
  "language_info": {
   "codemirror_mode": {
    "name": "ipython",
    "version": 3
   },
   "file_extension": ".py",
   "mimetype": "text/x-python",
   "name": "python",
   "nbconvert_exporter": "python",
   "pygments_lexer": "ipython3",
   "version": "3.11.4"
  },
  "orig_nbformat": 4
 },
 "nbformat": 4,
 "nbformat_minor": 2
}
